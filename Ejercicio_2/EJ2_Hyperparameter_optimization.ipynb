{
  "nbformat": 4,
  "nbformat_minor": 0,
  "metadata": {
    "colab": {
      "provenance": []
    },
    "kernelspec": {
      "name": "python3",
      "display_name": "Python 3"
    },
    "language_info": {
      "name": "python"
    }
  },
  "cells": [
    {
      "cell_type": "code",
      "execution_count": 1,
      "metadata": {
        "colab": {
          "base_uri": "https://localhost:8080/"
        },
        "id": "VEj--dP4bx9J",
        "outputId": "410f745e-51da-4d67-fa64-e150c1c624a2"
      },
      "outputs": [
        {
          "output_type": "stream",
          "name": "stdout",
          "text": [
            "Collecting deap\n",
            "  Downloading deap-1.4.3-cp312-cp312-manylinux_2_5_x86_64.manylinux1_x86_64.manylinux_2_17_x86_64.manylinux2014_x86_64.whl.metadata (13 kB)\n",
            "Requirement already satisfied: scikit-learn in /usr/local/lib/python3.12/dist-packages (1.6.1)\n",
            "Requirement already satisfied: matplotlib in /usr/local/lib/python3.12/dist-packages (3.10.0)\n",
            "Requirement already satisfied: pandas in /usr/local/lib/python3.12/dist-packages (2.2.2)\n",
            "Requirement already satisfied: numpy in /usr/local/lib/python3.12/dist-packages (from deap) (2.0.2)\n",
            "Requirement already satisfied: scipy>=1.6.0 in /usr/local/lib/python3.12/dist-packages (from scikit-learn) (1.16.1)\n",
            "Requirement already satisfied: joblib>=1.2.0 in /usr/local/lib/python3.12/dist-packages (from scikit-learn) (1.5.2)\n",
            "Requirement already satisfied: threadpoolctl>=3.1.0 in /usr/local/lib/python3.12/dist-packages (from scikit-learn) (3.6.0)\n",
            "Requirement already satisfied: contourpy>=1.0.1 in /usr/local/lib/python3.12/dist-packages (from matplotlib) (1.3.3)\n",
            "Requirement already satisfied: cycler>=0.10 in /usr/local/lib/python3.12/dist-packages (from matplotlib) (0.12.1)\n",
            "Requirement already satisfied: fonttools>=4.22.0 in /usr/local/lib/python3.12/dist-packages (from matplotlib) (4.59.2)\n",
            "Requirement already satisfied: kiwisolver>=1.3.1 in /usr/local/lib/python3.12/dist-packages (from matplotlib) (1.4.9)\n",
            "Requirement already satisfied: packaging>=20.0 in /usr/local/lib/python3.12/dist-packages (from matplotlib) (25.0)\n",
            "Requirement already satisfied: pillow>=8 in /usr/local/lib/python3.12/dist-packages (from matplotlib) (11.3.0)\n",
            "Requirement already satisfied: pyparsing>=2.3.1 in /usr/local/lib/python3.12/dist-packages (from matplotlib) (3.2.3)\n",
            "Requirement already satisfied: python-dateutil>=2.7 in /usr/local/lib/python3.12/dist-packages (from matplotlib) (2.9.0.post0)\n",
            "Requirement already satisfied: pytz>=2020.1 in /usr/local/lib/python3.12/dist-packages (from pandas) (2025.2)\n",
            "Requirement already satisfied: tzdata>=2022.7 in /usr/local/lib/python3.12/dist-packages (from pandas) (2025.2)\n",
            "Requirement already satisfied: six>=1.5 in /usr/local/lib/python3.12/dist-packages (from python-dateutil>=2.7->matplotlib) (1.17.0)\n",
            "Downloading deap-1.4.3-cp312-cp312-manylinux_2_5_x86_64.manylinux1_x86_64.manylinux_2_17_x86_64.manylinux2014_x86_64.whl (135 kB)\n",
            "\u001b[2K   \u001b[90m━━━━━━━━━━━━━━━━━━━━━━━━━━━━━━━━━━━━━━━━\u001b[0m \u001b[32m136.0/136.0 kB\u001b[0m \u001b[31m2.8 MB/s\u001b[0m eta \u001b[36m0:00:00\u001b[0m\n",
            "\u001b[?25hInstalling collected packages: deap\n",
            "Successfully installed deap-1.4.3\n"
          ]
        }
      ],
      "source": [
        "!pip install deap scikit-learn matplotlib pandas"
      ]
    },
    {
      "cell_type": "code",
      "source": [
        "import random\n",
        "import numpy as np\n",
        "import pandas as pd\n",
        "import matplotlib.pyplot as plt\n",
        "\n",
        "from sklearn import datasets\n",
        "from sklearn.model_selection import cross_val_score, train_test_split\n",
        "from sklearn.svm import SVC\n",
        "from sklearn.preprocessing import StandardScaler\n",
        "\n",
        "from deap import base, creator, tools, algorithms"
      ],
      "metadata": {
        "id": "4h3HdkHPdfxS"
      },
      "execution_count": 2,
      "outputs": []
    },
    {
      "cell_type": "code",
      "source": [
        "data = datasets.load_breast_cancer()\n",
        "X = data.data\n",
        "y = data.target\n",
        "scaler = StandardScaler()\n",
        "X = scaler.fit_transform(X)"
      ],
      "metadata": {
        "id": "itCv1ZD2dfuV"
      },
      "execution_count": 3,
      "outputs": []
    },
    {
      "cell_type": "code",
      "source": [
        "def evaluate(individual):\n",
        "    C = max(0.01, individual[0])\n",
        "    gamma = max(0.001, individual[1])\n",
        "    try:\n",
        "        clf = SVC(C=C, gamma=gamma)\n",
        "        score = cross_val_score(clf, X, y, cv=5).mean()\n",
        "    except Exception:\n",
        "        score = 0\n",
        "    return score,\n",
        "toolbox = base.Toolbox()\n",
        "creator.create(\"FitnessMax\", base.Fitness, weights=(1.0,))\n",
        "creator.create(\"Individual\", list, fitness=creator.FitnessMax)\n",
        "toolbox.register(\"attr_float\", random.uniform, 0.01, 10)\n",
        "toolbox.register(\"individual\", tools.initRepeat, creator.Individual, toolbox.attr_float, 2)\n",
        "toolbox.register(\"population\", tools.initRepeat, list, toolbox.individual)\n",
        "toolbox.register(\"mate\", tools.cxBlend, alpha=0.5)\n",
        "toolbox.register(\"mutate\", tools.mutGaussian, mu=0, sigma=0.5, indpb=0.2)\n",
        "toolbox.register(\"select\", tools.selTournament, tournsize=3)\n",
        "toolbox.register(\"evaluate\", evaluate)"
      ],
      "metadata": {
        "id": "zwO1UV__dfry"
      },
      "execution_count": 4,
      "outputs": []
    },
    {
      "cell_type": "code",
      "source": [
        "def main():\n",
        "    random.seed(42)\n",
        "    population = toolbox.population(n=30)\n",
        "    stats = tools.Statistics(lambda ind: ind.fitness.values)\n",
        "    stats.register(\"avg\", np.mean)\n",
        "    stats.register(\"std\", np.std)\n",
        "    stats.register(\"min\", np.min)\n",
        "    stats.register(\"max\", np.max)\n",
        "    population, logbook = algorithms.eaSimple(\n",
        "        population, toolbox,\n",
        "        cxpb=0.5, mutpb=0.2,\n",
        "        ngen=20, stats=stats, verbose=True\n",
        "    )\n",
        "    return population, logbook\n",
        "population, logbook = main()"
      ],
      "metadata": {
        "colab": {
          "base_uri": "https://localhost:8080/"
        },
        "id": "2gHQNxzRdfpD",
        "outputId": "d4618e82-a06c-44ea-9c68-00e2096cee6d"
      },
      "execution_count": 5,
      "outputs": [
        {
          "output_type": "stream",
          "name": "stdout",
          "text": [
            "gen\tnevals\tavg     \tstd      \tmin     \tmax    \n",
            "0  \t30    \t0.666193\t0.0974314\t0.627418\t0.95954\n",
            "1  \t14    \t0.706792\t0.122342 \t0.627418\t0.966636\n",
            "2  \t24    \t0.745461\t0.130061 \t0.627418\t0.966636\n",
            "3  \t20    \t0.867496\t0.114583 \t0.630927\t0.973653\n",
            "4  \t9     \t0.943775\t0.0476052\t0.803121\t0.973653\n",
            "5  \t21    \t0.969501\t0.00404019\t0.956094\t0.973653\n",
            "6  \t21    \t0.972016\t0.00197103\t0.966636\t0.973653\n",
            "7  \t19    \t0.973127\t0.000803961\t0.971899\t0.973653\n",
            "8  \t12    \t0.973478\t0.000526316\t0.971899\t0.973653\n",
            "9  \t21    \t0.973361\t0.000653821\t0.971899\t0.973653\n",
            "10 \t16    \t0.973361\t0.000653821\t0.971899\t0.973653\n",
            "11 \t20    \t0.973536\t0.000437621\t0.971899\t0.973653\n",
            "12 \t16    \t0.973478\t0.00152852 \t0.971899\t0.980686\n",
            "13 \t17    \t0.972246\t0.0100522  \t0.919096\t0.980686\n",
            "14 \t11    \t0.973244\t0.00828024 \t0.943766\t0.980686\n",
            "15 \t19    \t0.970021\t0.027924   \t0.831268\t0.980686\n",
            "16 \t15    \t0.967738\t0.0505071  \t0.699488\t0.980686\n",
            "17 \t18    \t0.978459\t0.00677774 \t0.943766\t0.980686\n",
            "18 \t19    \t0.978692\t0.00823802 \t0.934932\t0.980686\n",
            "19 \t14    \t0.971313\t0.0488619  \t0.708275\t0.980686\n",
            "20 \t16    \t0.980686\t2.22045e-16\t0.980686\t0.980686\n"
          ]
        }
      ]
    },
    {
      "cell_type": "code",
      "source": [
        "best_individual = tools.selBest(population, 1)[0]\n",
        "best_C = max(0.01, best_individual[0])\n",
        "best_gamma = max(0.001, best_individual[1])\n",
        "print(\"\\nMejor configuración encontrada:\")\n",
        "print(f\"C = {best_C:.4f}, gamma = {best_gamma:.4f}\")\n",
        "print(f\"Precisión CV = {best_individual.fitness.values[0]:.4f}\")\n",
        "X_train, X_test, y_train, y_test = train_test_split(X, y, test_size=0.2, random_state=42)\n",
        "final_model = SVC(C=best_C, gamma=best_gamma)\n",
        "final_model.fit(X_train, y_train)\n",
        "test_acc = final_model.score(X_test, y_test)\n",
        "print(f\"Precisión en test = {test_acc:.4f}\")"
      ],
      "metadata": {
        "colab": {
          "base_uri": "https://localhost:8080/"
        },
        "id": "TyJ1hctudfmp",
        "outputId": "5c1e63fe-eb87-4157-d368-f305f5b25132"
      },
      "execution_count": 6,
      "outputs": [
        {
          "output_type": "stream",
          "name": "stdout",
          "text": [
            "\n",
            "Mejor configuración encontrada:\n",
            "C = 8.9973, gamma = 0.0129\n",
            "Precisión CV = 0.9807\n",
            "Precisión en test = 0.9825\n"
          ]
        }
      ]
    },
    {
      "cell_type": "code",
      "source": [
        "gen = logbook.select(\"gen\")\n",
        "fit_maxs = logbook.select(\"max\")\n",
        "fit_avgs = logbook.select(\"avg\")\n",
        "plt.plot(gen, fit_maxs, label=\"Mejor\")\n",
        "plt.plot(gen, fit_avgs, label=\"Promedio\")\n",
        "plt.xlabel(\"Generación\")\n",
        "plt.ylabel(\"Precisión\")\n",
        "plt.title(\"Evolución del Algoritmo Genético\")\n",
        "plt.legend()\n",
        "plt.show()"
      ],
      "metadata": {
        "colab": {
          "base_uri": "https://localhost:8080/",
          "height": 472
        },
        "id": "RyinIErqdfjb",
        "outputId": "7e9aa276-0dca-48b4-db93-b5c211e43acf"
      },
      "execution_count": 7,
      "outputs": [
        {
          "output_type": "display_data",
          "data": {
            "text/plain": [
              "<Figure size 640x480 with 1 Axes>"
            ],
            "image/png": "[encoded data removed]"
          },
          "metadata": {}
        }
      ]
    }
  ]
}